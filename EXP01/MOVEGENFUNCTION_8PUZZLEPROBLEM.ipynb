{
  "cells": [
    {
      "cell_type": "code",
      "execution_count": null,
      "metadata": {
        "id": "0eOERcF3bS4n"
      },
      "outputs": [],
      "source": [
        "# movegen function\n",
        "import numpy as np\n",
        "import pandas as pd"
      ]
    },
    {
      "cell_type": "code",
      "execution_count": null,
      "metadata": {
        "id": "GWejHDo6bswC"
      },
      "outputs": [],
      "source": [
        "def find_space(array):\n",
        "  for i in range(3):\n",
        "    for j in range(3):\n",
        "      if array[i][j] == 0 :\n",
        "        return i , j\n",
        "array2 = [\n",
        "    [1,2,3],\n",
        "    [2,0,5],\n",
        "    [3,4,6],\n",
        "]"
      ]
    },
    {
      "cell_type": "markdown",
      "metadata": {
        "id": "u0f-uZPXpg5g"
      },
      "source": []
    },
    {
      "cell_type": "code",
      "execution_count": null,
      "metadata": {
        "colab": {
          "base_uri": "https://localhost:8080/"
        },
        "id": "bl5QNpu2jVm2",
        "outputId": "9adf539d-5db8-40b6-fe0b-ec6b40d8917e"
      },
      "outputs": [
        {
          "output_type": "stream",
          "name": "stdout",
          "text": [
            "Enter the entries rowwise:\n",
            "0\n",
            "1\n",
            "2\n",
            "3\n",
            "4\n",
            "5\n",
            "6\n",
            "7\n",
            "8\n",
            "\n",
            "The intial state is : \n",
            "[0, 1, 2]\n",
            "[3, 4, 5]\n",
            "[6, 7, 8]\n"
          ]
        }
      ],
      "source": [
        "array = []\n",
        "print(\"Enter the entries rowwise:\")\n",
        "\n",
        "for i in range(3):\n",
        "    a =[]\n",
        "    for j in range(3):\n",
        "         a.append(int(input()))\n",
        "    array.append(a)\n",
        "\n",
        "\n",
        "print()\n",
        "print(\"The intial state is : \")\n",
        "for row in array:\n",
        "  print(row)\n",
        "# array = [\n",
        "#     [1,5,8],\n",
        "#     [4,6,0],\n",
        "#     [2,7,3],\n",
        "# ]"
      ]
    },
    {
      "cell_type": "code",
      "execution_count": null,
      "metadata": {
        "id": "w9HNXnvDd1P7",
        "colab": {
          "base_uri": "https://localhost:8080/"
        },
        "outputId": "07734686-2b34-47ab-b787-fd7ceed6bd8a"
      },
      "outputs": [
        {
          "output_type": "stream",
          "name": "stdout",
          "text": [
            "Movegen function defined\n"
          ]
        }
      ],
      "source": [
        "def movegen(array, move):\n",
        "\n",
        "  def find_space(array):\n",
        "    for i in range(3):\n",
        "      for j in range(3):\n",
        "        if array[i][j] == 0 :\n",
        "          return i , j\n",
        "\n",
        "  space_row, space_column = find_space(array)\n",
        "  duplicate_array = [row[:] for row in array]\n",
        "\n",
        "  if move == 'left':\n",
        "    if space_row > 0:\n",
        "      print(\"Moving the blank space to the left...\")\n",
        "      duplicate_array[space_row][space_column], duplicate_array[space_row][space_column - 1] = duplicate_array[space_row][space_column - 1], duplicate_array[space_row][space_column]\n",
        "      return duplicate_array\n",
        "\n",
        "  elif move == 'right':\n",
        "    if space_row < 2:\n",
        "      print(\"Moving the blank space to the right...\")\n",
        "      duplicate_array[space_row][space_column], duplicate_array[space_row][space_column + 1] = duplicate_array[space_row][space_column + 1], duplicate_array[space_row][space_column]\n",
        "      return duplicate_array\n",
        "\n",
        "  elif move == 'up':\n",
        "    if space_column > 0:\n",
        "      print(\"Moving the blank space to up...\")\n",
        "      duplicate_array[space_row][space_column], duplicate_array[space_row - 1][space_column ] = duplicate_array[space_row - 1][space_column], duplicate_array[space_row][space_column]\n",
        "      return duplicate_array\n",
        "\n",
        "  elif move == 'down':\n",
        "    if space_column < 2:\n",
        "      print(\"Moving the blank space down...\")\n",
        "      duplicate_array[space_row][space_column], duplicate_array[space_row + 1][space_column ] = duplicate_array[space_row + 1][space_column], duplicate_array[space_row][space_column]\n",
        "      return duplicate_array\n",
        "\n",
        "  else :\n",
        "    print(\"invalid move\")\n",
        "\n",
        "print(\"Movegen function defined\")"
      ]
    },
    {
      "cell_type": "code",
      "execution_count": null,
      "metadata": {
        "colab": {
          "base_uri": "https://localhost:8080/"
        },
        "id": "nInXJr-CeZVk",
        "outputId": "a3800321-8cd3-4e4f-8735-1dc7a4b1c17b"
      },
      "outputs": [
        {
          "output_type": "stream",
          "name": "stdout",
          "text": [
            "Enter the move u want to do : right\n",
            "Moving the blank space to the right...\n"
          ]
        }
      ],
      "source": [
        "move = input(\"Enter the move u want to do : \")\n",
        "next_array = movegen(array, move.lower())"
      ]
    },
    {
      "cell_type": "code",
      "execution_count": null,
      "metadata": {
        "colab": {
          "base_uri": "https://localhost:8080/"
        },
        "id": "8h6B4VdVfG5U",
        "outputId": "7b06550e-6de8-47b1-c034-eca6e6365e09"
      },
      "outputs": [
        {
          "output_type": "stream",
          "name": "stdout",
          "text": [
            "The initial state was : \n",
            "[0, 1, 2]\n",
            "[3, 4, 5]\n",
            "[6, 7, 8]\n",
            "The new state is after moving the blank space right : \n",
            "[1, 0, 2]\n",
            "[3, 4, 5]\n",
            "[6, 7, 8]\n"
          ]
        }
      ],
      "source": [
        "print(\"The initial state was : \")\n",
        "for row in array:\n",
        "  print(row)\n",
        "print(\"The new state is after moving the blank space {} : \".format(move.lower()))\n",
        "if next_array:\n",
        "  for row in next_array:\n",
        "      print(row)\n",
        "else:\n",
        "  print(\"Invalid move.\")"
      ]
    },
    {
      "cell_type": "code",
      "execution_count": null,
      "metadata": {
        "id": "-vDsS-ANq0QY"
      },
      "outputs": [],
      "source": []
    }
  ],
  "metadata": {
    "colab": {
      "provenance": []
    },
    "kernelspec": {
      "display_name": "Python 3",
      "name": "python3"
    },
    "language_info": {
      "name": "python"
    }
  },
  "nbformat": 4,
  "nbformat_minor": 0
}